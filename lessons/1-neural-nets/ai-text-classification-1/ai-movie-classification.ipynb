{
 "cells": [
  {
   "cell_type": "code",
   "execution_count": 6,
   "id": "e89b6305-dc64-4f44-a8af-05f162e0ba40",
   "metadata": {},
   "outputs": [
    {
     "name": "stdout",
     "output_type": "stream",
     "text": [
      "test\n"
     ]
    }
   ],
   "source": [
    "import tensorflow as td\n",
    "from tensorflow import keras\n",
    "import streamlit as st\n",
    "import numpy as np\n",
    "\n",
    "from icecream import ic\n",
    "import logging\n",
    "\n",
    "print('test')"
   ]
  },
  {
   "cell_type": "code",
   "execution_count": 7,
   "id": "8c9a8eab-35b9-4122-98eb-567fb60cbf0b",
   "metadata": {},
   "outputs": [
    {
     "name": "stdout",
     "output_type": "stream",
     "text": [
      "file_root: aimovieclassification\n",
      "logfilename: ./logs/aimovieclassification.log\n"
     ]
    }
   ],
   "source": [
    "logger = logging.getLogger()\n",
    "\n",
    "file_root = \"aimovieclassification\"\n",
    "logfilename = f\"./logs/{file_root}.log\"\n",
    "\n",
    "print(f\"file_root: {file_root}\")\n",
    "print(f\"logfilename: {logfilename}\")\n",
    "\n",
    "fhandler = logging.FileHandler(filename=logfilename, mode='a')\n",
    "\n",
    "formatter = logging.Formatter('%(asctime)s %(levelname)-8s %(message)s')\n",
    "fhandler.setFormatter(formatter)\n",
    "logger.addHandler(fhandler)\n",
    "\n",
    "logger.setLevel(logging.DEBUG)\n"
   ]
  },
  {
   "cell_type": "code",
   "execution_count": 8,
   "id": "bc8ff579-d97f-493f-8a5a-ce3703a3e91c",
   "metadata": {},
   "outputs": [],
   "source": [
    "logging.debug(\"logging:configured\")\n"
   ]
  },
  {
   "cell_type": "code",
   "execution_count": 10,
   "id": "5aaae977-e311-4f14-91a0-cb24d0a45a0a",
   "metadata": {},
   "outputs": [
    {
     "name": "stderr",
     "output_type": "stream",
     "text": [
      "2024-12-08 13:00:59.877 WARNING streamlit.runtime.scriptrunner_utils.script_run_context: Thread 'MainThread': missing ScriptRunContext! This warning can be ignored when running in bare mode.\n",
      "2024-12-08 13:01:00.287 \n",
      "  \u001b[33m\u001b[1mWarning:\u001b[0m to view this Streamlit app on a browser, run it with the following\n",
      "  command:\n",
      "\n",
      "    streamlit run /home/heidless/.pyenv/versions/3.11.11/lib/python3.11/site-packages/ipykernel_launcher.py [ARGUMENTS]\n",
      "2024-12-08 13:01:00.289 Thread 'MainThread': missing ScriptRunContext! This warning can be ignored when running in bare mode.\n",
      "2024-12-08 13:01:00.290 Thread 'MainThread': missing ScriptRunContext! This warning can be ignored when running in bare mode.\n",
      "2024-12-08 13:01:00.291 Thread 'MainThread': missing ScriptRunContext! This warning can be ignored when running in bare mode.\n"
     ]
    }
   ],
   "source": [
    "st.write(\"aimovieclassification:started\")"
   ]
  },
  {
   "cell_type": "code",
   "execution_count": 11,
   "id": "5f91a1fb-c07b-4dd9-a080-127f7d25f645",
   "metadata": {},
   "outputs": [],
   "source": [
    "data = keras.datasets.imdb"
   ]
  },
  {
   "cell_type": "code",
   "execution_count": 12,
   "id": "2fdd2494-5640-4fce-869f-6c57b30d2d46",
   "metadata": {},
   "outputs": [
    {
     "data": {
      "text/plain": [
       "<module 'keras.api.datasets.imdb' from '/home/heidless/.pyenv/versions/3.11.11/lib/python3.11/site-packages/keras/api/datasets/imdb/__init__.py'>"
      ]
     },
     "execution_count": 12,
     "metadata": {},
     "output_type": "execute_result"
    }
   ],
   "source": [
    "data"
   ]
  },
  {
   "cell_type": "code",
   "execution_count": null,
   "id": "41ba75fd-dc2b-453f-8b80-d365f97175ef",
   "metadata": {},
   "outputs": [],
   "source": [
    "(train_data, train_labels), (test_data)"
   ]
  }
 ],
 "metadata": {
  "kernelspec": {
   "display_name": "Python 3 (ipykernel)",
   "language": "python",
   "name": "python3"
  },
  "language_info": {
   "codemirror_mode": {
    "name": "ipython",
    "version": 3
   },
   "file_extension": ".py",
   "mimetype": "text/x-python",
   "name": "python",
   "nbconvert_exporter": "python",
   "pygments_lexer": "ipython3",
   "version": "3.11.11"
  }
 },
 "nbformat": 4,
 "nbformat_minor": 5
}
