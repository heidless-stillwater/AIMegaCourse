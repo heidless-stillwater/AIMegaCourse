{
 "cells": [
  {
   "cell_type": "code",
   "execution_count": 144,
   "id": "dd21dc52-e4b5-4ade-a532-0014b8ec11de",
   "metadata": {},
   "outputs": [],
   "source": [
    "import os\n",
    "import tensorflow as tf   \n",
    "import streamlit as st\n",
    "from tensorflow import keras\n",
    "\n",
    "import pandas as pd\n",
    "import numpy as np   \n",
    "import matplotlib.pyplot as plt\n",
    "import plotly.express as px   \n",
    "from icecream import ic\n",
    "import logging\n"
   ]
  },
  {
   "cell_type": "code",
   "execution_count": 145,
   "id": "b2c1747d-414e-433f-9bd1-f448e25ae4fe",
   "metadata": {},
   "outputs": [
    {
     "name": "stdout",
     "output_type": "stream",
     "text": [
      "file_root: aineuralnet\n",
      "logfilename: ./logs/aineuralnet.log\n"
     ]
    }
   ],
   "source": [
    "logger = logging.getLogger()\n",
    "\n",
    "file_root = \"aineuralnet\"\n",
    "logfilename = f\"./logs/{file_root}.log\"\n",
    "\n",
    "print(f\"file_root: {file_root}\")\n",
    "print(f\"logfilename: {logfilename}\")\n",
    "\n",
    "fhandler = logging.FileHandler(filename=logfilename, mode='a')\n",
    "\n",
    "formatter = logging.Formatter('%(asctime)s %(levelname)-8s %(message)s')\n",
    "fhandler.setFormatter(formatter)\n",
    "logger.addHandler(fhandler)\n",
    "\n",
    "logger.setLevel(logging.DEBUG)\n"
   ]
  },
  {
   "cell_type": "code",
   "execution_count": 146,
   "id": "bc131fb9-1804-4b25-bf93-e4563ffb83ca",
   "metadata": {},
   "outputs": [],
   "source": [
    "logging.debug(\"logging:configured\")\n"
   ]
  },
  {
   "cell_type": "code",
   "execution_count": 147,
   "id": "ce8266a2-6a97-47a0-9e53-f95c6e5700ce",
   "metadata": {},
   "outputs": [],
   "source": [
    "# st.write(\"in ai_neural_net\")\n",
    "\n",
    "data = keras.datasets.fashion_mnist\n"
   ]
  },
  {
   "cell_type": "code",
   "execution_count": 148,
   "id": "26ccc945-4190-4fdc-82bc-2b80eab8b00d",
   "metadata": {},
   "outputs": [],
   "source": [
    "\n",
    "(train_images, train_labels), (test_images, test_labels) = data.load_data()\n",
    "\n",
    "# train_images.shape\n",
    "# test_images.shape\n",
    "# train_labels.shape\n",
    "# test_labels.shape\n"
   ]
  },
  {
   "cell_type": "code",
   "execution_count": 149,
   "id": "c17189f9-b1f7-4909-b446-fdad5e8c54ab",
   "metadata": {},
   "outputs": [
    {
     "name": "stdout",
     "output_type": "stream",
     "text": [
      "T-shirt/top\n"
     ]
    }
   ],
   "source": [
    "class_names = ['T-shirt/top', 'Trouser', 'Pullover', 'Dress', 'Coat', \n",
    "                'Sandal', 'Shirt', 'Sneaker', 'Bag', 'Ankle boot']\n",
    "\n",
    "print(class_names[train_labels[4]])\n",
    "\n",
    "# class_names\n"
   ]
  },
  {
   "cell_type": "code",
   "execution_count": 150,
   "id": "e6a5dc3d-bdbe-4be5-98e9-d69a29e62467",
   "metadata": {
    "scrolled": true
   },
   "outputs": [
    {
     "data": {
      "image/png": "[encoded data removed]",
      "text/plain": [
       "<Figure size 640x480 with 1 Axes>"
      ]
     },
     "metadata": {},
     "output_type": "display_data"
    }
   ],
   "source": [
    "# print(train_images[7])\n",
    "plt.imshow(train_images[7], cmap=plt.cm.binary)\n",
    "plt.show()"
   ]
  },
  {
   "cell_type": "code",
   "execution_count": 164,
   "id": "245f5561-29cb-4951-9231-eec584e5b424",
   "metadata": {},
   "outputs": [
    {
     "name": "stdout",
     "output_type": "stream",
     "text": [
      "\u001b[1m1875/1875\u001b[0m \u001b[32m━━━━━━━━━━━━━━━━━━━━\u001b[0m\u001b[37m\u001b[0m \u001b[1m4s\u001b[0m 2ms/step - accuracy: 0.0987 - loss: 2.3028\n",
      "\u001b[1m313/313\u001b[0m \u001b[32m━━━━━━━━━━━━━━━━━━━━\u001b[0m\u001b[37m\u001b[0m \u001b[1m1s\u001b[0m 2ms/step - accuracy: 0.1001 - loss: 2.3028   \n",
      "test_acc: 0.10000000149011612\n",
      "\u001b[1m313/313\u001b[0m \u001b[32m━━━━━━━━━━━━━━━━━━━━\u001b[0m\u001b[37m\u001b[0m \u001b[1m0s\u001b[0m 1ms/step  \n"
     ]
    },
    {
     "data": {
      "text/plain": [
       "array([[0.10195776, 0.09916256, 0.09913523, ..., 0.10020592, 0.09912923,\n",
       "        0.09870423],\n",
       "       [0.10195776, 0.09916256, 0.09913523, ..., 0.10020592, 0.09912923,\n",
       "        0.09870423],\n",
       "       [0.10195776, 0.09916256, 0.09913523, ..., 0.10020592, 0.09912923,\n",
       "        0.09870423],\n",
       "       ...,\n",
       "       [0.10195776, 0.09916256, 0.09913523, ..., 0.10020592, 0.09912923,\n",
       "        0.09870423],\n",
       "       [0.10195776, 0.09916256, 0.09913523, ..., 0.10020592, 0.09912923,\n",
       "        0.09870423],\n",
       "       [0.10195776, 0.09916256, 0.09913523, ..., 0.10020592, 0.09912923,\n",
       "        0.09870423]], dtype=float32)"
      ]
     },
     "execution_count": 164,
     "metadata": {},
     "output_type": "execute_result"
    }
   ],
   "source": [
    "\n",
    "train_images = train_images/255.0\n",
    "test_images = test_images/255.0\n",
    "\n",
    "# for i in range(10):\n",
    "#     plt.imshow(test_images[i], cmap=plt.cm.binary)\n",
    "#     plt.show()\n",
    "\n",
    "model = keras.Sequential([\n",
    "    keras.layers.Flatten(input_shape=(28,28)),\n",
    "    keras.layers.Dense(128, activation=\"relu\"),\n",
    "    keras.layers.Dense(10, activation=\"softmax\")\n",
    "])\n",
    "\n",
    "model.compile(optimizer=\"adam\", loss=\"sparse_categorical_crossentropy\", metrics=[\"accuracy\"])\n",
    "\n",
    "model.fit(train_images, train_labels, epochs=1)\n",
    "\n",
    "test_loss, test_acc = model.evaluate(test_images, test_labels)\n",
    "\n",
    "print(f\"test_acc: {test_acc}\")\n",
    "\n",
    "prediction = model.predict(test_images)\n",
    "\n",
    "prediction\n",
    "\n",
    "\n",
    "# for i in range(10):\n",
    "#     plt.imshow(test_images[i], cmap=plt.cm.binary)\n",
    "#     plt.show()\n",
    "#     plt.imshow(test_images[i], cmap=plt.cm.binary)\n",
    "#     plt.show()\n",
    "\n",
    "# for i in range(len(prediction)):\n",
    "#     # print(np.argmax(prediction[i]))\n",
    "#     print(prediction[i])\n",
    "\n",
    "\n",
    "\n",
    "    \n",
    "#     print(f\"i: {i}\")\n",
    "#     # plt.imshow(test_images[i], cmap=plt.cm.binary)\n",
    "#     # plt.show()\n",
    "#     print(class_names[np.argmax(prediction[i])])\n",
    "\n"
   ]
  },
  {
   "cell_type": "code",
   "execution_count": null,
   "id": "752a819b-fcb0-4ef9-b6e1-33e92e51b4cc",
   "metadata": {},
   "outputs": [],
   "source": []
  },
  {
   "cell_type": "code",
   "execution_count": null,
   "id": "3eb655a9-537a-4123-b466-43be93a85b77",
   "metadata": {},
   "outputs": [],
   "source": []
  },
  {
   "cell_type": "code",
   "execution_count": null,
   "id": "b1312382-ccb0-4a2f-9524-60fa756ee2c9",
   "metadata": {},
   "outputs": [],
   "source": []
  }
 ],
 "metadata": {
  "kernelspec": {
   "display_name": "Python 3 (ipykernel)",
   "language": "python",
   "name": "python3"
  },
  "language_info": {
   "codemirror_mode": {
    "name": "ipython",
    "version": 3
   },
   "file_extension": ".py",
   "mimetype": "text/x-python",
   "name": "python",
   "nbconvert_exporter": "python",
   "pygments_lexer": "ipython3",
   "version": "3.11.11"
  }
 },
 "nbformat": 4,
 "nbformat_minor": 5
}
